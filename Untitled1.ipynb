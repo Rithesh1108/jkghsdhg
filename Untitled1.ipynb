{
 "cells": [
  {
   "cell_type": "code",
   "execution_count": null,
   "id": "a4500ac1",
   "metadata": {},
   "outputs": [],
   "source": [
    "from numpy import asarray\n",
    "data=[[1,2,3],[4,5,6]]\n",
    "data=asarray(data)\n",
    "print(\"Numpy array\")\n",
    "print(data)\n",
    "print(\"__________________________________________________________\")\n",
    "totalr=data.sum(axis=1)\n",
    "totalc=data.sum(axis=0)\n",
    "print(\"Row Sum\")\n",
    "print(totalr)\n",
    "print(\"Column Sum\")\n",
    "print(totalc)\n",
    "print(\"________________________________________________________\")\n",
    "meanr=data.mean(axis=1)\n",
    "meanc=data.mean(axis=0)\n",
    "print(\"Row Mean\")\n",
    "print(meanr)\n",
    "print(\"Column Mean\")\n",
    "print(meanc)\n",
    "print(\"________________________________________________________\")\n",
    "stdr=data.std(axis=1)\n",
    "stdc=data.std(axis=0)\n",
    "print(\"Row STD\")\n",
    "print(stdr)\n",
    "print(\"Column STD\")\n",
    "print(stdc)\n"
   ]
  },
  {
   "cell_type": "code",
   "execution_count": null,
   "id": "43d0ae73",
   "metadata": {},
   "outputs": [],
   "source": [
    "i=1\n",
    "n=5\n",
    "while i<=n:\n",
    "    print(i)\n",
    "    i=i+1\n"
   ]
  },
  {
   "cell_type": "code",
   "execution_count": null,
   "id": "3089bc34",
   "metadata": {},
   "outputs": [],
   "source": []
  },
  {
   "cell_type": "code",
   "execution_count": null,
   "id": "69c5153a",
   "metadata": {},
   "outputs": [],
   "source": []
  }
 ],
 "metadata": {
  "kernelspec": {
   "display_name": "Python 3 (ipykernel)",
   "language": "python",
   "name": "python3"
  }
 },
 "nbformat": 4,
 "nbformat_minor": 5
}
