{
 "cells": [
  {
   "cell_type": "code",
   "execution_count": null,
   "id": "22c4b57e",
   "metadata": {},
   "outputs": [],
   "source": [
    "import create_pattern as cp\n",
    "cp.word(\"RITHESH\",\"*\")"
   ]
  },
  {
   "cell_type": "code",
   "execution_count": null,
   "id": "8f9e16e9",
   "metadata": {},
   "outputs": [],
   "source": []
  }
 ],
 "metadata": {
  "kernelspec": {
   "display_name": "Python 3 (ipykernel)",
   "language": "python",
   "name": "python3"
  }
 },
 "nbformat": 4,
 "nbformat_minor": 5
}
