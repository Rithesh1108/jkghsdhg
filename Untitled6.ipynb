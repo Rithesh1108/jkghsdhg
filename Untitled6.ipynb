{
 "cells": [
  {
   "cell_type": "code",
   "execution_count": null,
   "id": "3c720b04",
   "metadata": {},
   "outputs": [],
   "source": [
    "import pandas as pd\n",
    "def read_html_to_dict(html_file):\n",
    "    tables=pd.read_html(html_file)\n",
    "    table_dict={}\n",
    "    for i,table in enumerate(tables):\n",
    "        table_dict=table.to_dict(orient='list')\n",
    "        table_dict[f'Table_{i+1}']=table_dict\n",
    "    return tables_dict\n",
    "if_name_=='_main_':\n",
    "    html_file='sample.html'\n",
    "    result=read_html_to_dict(html_file)\n",
    "print(result)"
   ]
  },
  {
   "cell_type": "code",
   "execution_count": null,
   "id": "c23ed760",
   "metadata": {},
   "outputs": [],
   "source": []
  }
 ],
 "metadata": {
  "kernelspec": {
   "display_name": "Python 3 (ipykernel)",
   "language": "python",
   "name": "python3"
  }
 },
 "nbformat": 4,
 "nbformat_minor": 5
}
